{
 "cells": [
  {
   "cell_type": "code",
   "execution_count": 14,
   "id": "6f68b7e8",
   "metadata": {},
   "outputs": [
    {
     "ename": "ValueError",
     "evalue": "not enough values to unpack (expected 2, got 1)",
     "output_type": "error",
     "traceback": [
      "\u001b[1;31m---------------------------------------------------------------------------\u001b[0m",
      "\u001b[1;31mValueError\u001b[0m                                Traceback (most recent call last)",
      "Cell \u001b[1;32mIn[14], line 15\u001b[0m\n\u001b[0;32m     12\u001b[0m \u001b[38;5;66;03m# Xử lý từng dòng và thêm vào dictionary\u001b[39;00m\n\u001b[0;32m     13\u001b[0m \u001b[38;5;28;01mfor\u001b[39;00m line \u001b[38;5;129;01min\u001b[39;00m cookie_lines:\n\u001b[0;32m     14\u001b[0m     \u001b[38;5;66;03m# Tách tên cookie và giá trị tại dấu bằng\u001b[39;00m\n\u001b[1;32m---> 15\u001b[0m     key, value \u001b[38;5;241m=\u001b[39m line\u001b[38;5;241m.\u001b[39mstrip()\u001b[38;5;241m.\u001b[39msplit(\u001b[38;5;124m'\u001b[39m\u001b[38;5;124m=\u001b[39m\u001b[38;5;124m'\u001b[39m, \u001b[38;5;241m1\u001b[39m)  \u001b[38;5;66;03m# thêm 1 là tham số để chỉ tách tại dấu = đầu tiên\u001b[39;00m\n\u001b[0;32m     16\u001b[0m     cookies_dict[key] \u001b[38;5;241m=\u001b[39m value\n\u001b[0;32m     18\u001b[0m \u001b[38;5;66;03m# Chuyển dictionary thành JSON và in ra\u001b[39;00m\n",
      "\u001b[1;31mValueError\u001b[0m: not enough values to unpack (expected 2, got 1)"
     ]
    }
   ],
   "source": [
    "import json\n",
    "\n",
    "# Đây là chuỗi text chứa các cookies bạn đã cung cấp\n",
    "cookie_str = \"User-Agent=Mozilla/5.0 (Windows NT 10.0; Win64; x64) AppleWebKit/537.36 (KHTML, like Gecko) Chrome/118.0.0.0 Safari/537.36, Accept=application/json,Accept-Language=en-US,en;q=0.9,vi;q=0.8,Referer=https://shopee.vn/-T%E1%BA%B7ng-k%C3%A8m-th%E1%BA%BB-nh%E1%BB%9B-M%C3%A1y-Quay-Ch%E1%BB%A5p-%E1%BA%A2nh-Retro-Ch%E1%BA%A5t-L%C6%B0%E1%BB%A3ng-H%C3%ACnh-%E1%BA%A2nh-4K-PRO-i.223425375.18853668711?sp_atk=31381b2e-302b-403a-a1a4-7803891cadd7&xptdk=31381b2e-302b-403a-a1a4-7803891cadd7\"\n",
    "\n",
    "# Chia chuỗi text thành từng dòng\n",
    "cookie_lines = cookie_str.split(',')\n",
    "\n",
    "# Tạo một dictionary để chứa các cặp key-value\n",
    "cookies_dict = {}\n",
    "\n",
    "# Xử lý từng dòng và thêm vào dictionary\n",
    "for line in cookie_lines:\n",
    "    # Tách tên cookie và giá trị tại dấu bằng\n",
    "    key, value = line.strip().split('=', 1)  # thêm 1 là tham số để chỉ tách tại dấu = đầu tiên\n",
    "    cookies_dict[key] = value\n",
    "\n",
    "# Chuyển dictionary thành JSON và in ra\n",
    "json_cookies = json.dumps(cookies_dict, indent=4)\n",
    "print(json_cookies)\n"
   ]
  },
  {
   "cell_type": "code",
   "execution_count": 15,
   "id": "8f8c59d8",
   "metadata": {},
   "outputs": [
    {
     "name": "stdout",
     "output_type": "stream",
     "text": [
      "Status Code: 403\n",
      "{\n",
      "    \"is_customized\": false,\n",
      "    \"is_login\": false,\n",
      "    \"platform\": 0,\n",
      "    \"action_type\": 2,\n",
      "    \"error\": 90309999,\n",
      "    \"tracking_id\": \"63092010-0765-4180-a05e-3c993f862547\",\n",
      "    \"report_extra_info\": \"\"\n",
      "}\n"
     ]
    }
   ],
   "source": [
    "import requests\n",
    "import json\n",
    "\n",
    "url = \"https://shopee.vn/api/v4/pdp/get_pc?shop_id=223425375&item_id=18853668711\"\n",
    "\n",
    "response = requests.get(url)\n",
    "\n",
    "# In status code và phần JSON của phản hồi (nếu có)\n",
    "print(f\"Status Code: {response.status_code}\")\n",
    "print(json.dumps(response.json(), indent=4))\n"
   ]
  },
  {
   "cell_type": "code",
   "execution_count": 1,
   "id": "541b1455",
   "metadata": {},
   "outputs": [],
   "source": [
    "# import libraries \n",
    "\n",
    "from bs4 import BeautifulSoup\n",
    "import requests\n",
    "import time\n",
    "import datetime\n",
    "\n",
    "import smtplib\n"
   ]
  },
  {
   "cell_type": "code",
   "execution_count": 2,
   "id": "4e2f4190",
   "metadata": {},
   "outputs": [
    {
     "ename": "AttributeError",
     "evalue": "'NoneType' object has no attribute 'get_text'",
     "output_type": "error",
     "traceback": [
      "\u001b[1;31m---------------------------------------------------------------------------\u001b[0m",
      "\u001b[1;31mAttributeError\u001b[0m                            Traceback (most recent call last)",
      "Cell \u001b[1;32mIn[2], line 13\u001b[0m\n\u001b[0;32m      9\u001b[0m soup1 \u001b[38;5;241m=\u001b[39m BeautifulSoup(page\u001b[38;5;241m.\u001b[39mcontent, \u001b[38;5;124m\"\u001b[39m\u001b[38;5;124mhtml.parser\u001b[39m\u001b[38;5;124m\"\u001b[39m)\n\u001b[0;32m     11\u001b[0m soup2 \u001b[38;5;241m=\u001b[39m BeautifulSoup(soup1\u001b[38;5;241m.\u001b[39mprettify(), \u001b[38;5;124m\"\u001b[39m\u001b[38;5;124mhtml.parser\u001b[39m\u001b[38;5;124m\"\u001b[39m)\n\u001b[1;32m---> 13\u001b[0m title \u001b[38;5;241m=\u001b[39m soup2\u001b[38;5;241m.\u001b[39mfind(\u001b[38;5;28mid\u001b[39m\u001b[38;5;241m=\u001b[39m\u001b[38;5;124m'\u001b[39m\u001b[38;5;124mproductTitle\u001b[39m\u001b[38;5;124m'\u001b[39m)\u001b[38;5;241m.\u001b[39mget_text()\n\u001b[0;32m     15\u001b[0m price \u001b[38;5;241m=\u001b[39m soup2\u001b[38;5;241m.\u001b[39mfind(\u001b[38;5;28mid\u001b[39m\u001b[38;5;241m=\u001b[39m\u001b[38;5;124m'\u001b[39m\u001b[38;5;124mpriceblock_ourprice\u001b[39m\u001b[38;5;124m'\u001b[39m)\u001b[38;5;241m.\u001b[39mget_text()\n\u001b[0;32m     18\u001b[0m \u001b[38;5;28mprint\u001b[39m(title)\n",
      "\u001b[1;31mAttributeError\u001b[0m: 'NoneType' object has no attribute 'get_text'"
     ]
    }
   ],
   "source": [
    "# Connect to Website and pull in data\n",
    "\n",
    "URL = 'https://www.amazon.com/Funny-Data-Systems-Business-Analyst/dp/B07FNW9FGJ/ref=sr_1_3?dchild=1&keywords=data%2Banalyst%2Btshirt&qid=1626655184&sr=8-3&customId=B0752XJYNL&th=1'\n",
    "\n",
    "headers = {\"User-Agent\": \"Mozilla/5.0 (Windows NT 10.0; Win64; x64) AppleWebKit/537.36 (KHTML, like Gecko) Chrome/78.0.3904.108 Safari/537.36\", \"Accept-Encoding\":\"gzip, deflate\", \"Accept\":\"text/html,application/xhtml+xml,application/xml;q=0.9,*/*;q=0.8\", \"DNT\":\"1\",\"Connection\":\"close\", \"Upgrade-Insecure-Requests\":\"1\"}\n",
    "\n",
    "page = requests.get(URL, headers=headers)\n",
    "\n",
    "soup1 = BeautifulSoup(page.text, \"html.parser\")\n",
    "\n",
    "soup2 = BeautifulSoup(soup1.prettify(), \"html.parser\")\n",
    "\n",
    "title = soup2.find(id='productTitle').get_text()\n",
    "\n",
    "price = soup2.find(id='priceblock_ourprice').get_text()\n",
    "\n",
    "\n",
    "print(title)\n",
    "print(price)"
   ]
  },
  {
   "cell_type": "code",
   "execution_count": null,
   "id": "666a5f84",
   "metadata": {},
   "outputs": [],
   "source": []
  }
 ],
 "metadata": {
  "kernelspec": {
   "display_name": "Python 3 (ipykernel)",
   "language": "python",
   "name": "python3"
  },
  "language_info": {
   "codemirror_mode": {
    "name": "ipython",
    "version": 3
   },
   "file_extension": ".py",
   "mimetype": "text/x-python",
   "name": "python",
   "nbconvert_exporter": "python",
   "pygments_lexer": "ipython3",
   "version": "3.11.3"
  }
 },
 "nbformat": 4,
 "nbformat_minor": 5
}
