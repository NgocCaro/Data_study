{
 "cells": [
  {
   "cell_type": "code",
   "execution_count": 198,
   "id": "ac1283b7",
   "metadata": {},
   "outputs": [],
   "source": [
    "import numpy as np"
   ]
  },
  {
   "cell_type": "markdown",
   "id": "184e159b",
   "metadata": {},
   "source": [
    "# Creating Numpy Arrays from Python List"
   ]
  },
  {
   "cell_type": "code",
   "execution_count": 199,
   "id": "ac86d559",
   "metadata": {},
   "outputs": [
    {
     "data": {
      "text/plain": [
       "array([1, 2, 3, 4])"
      ]
     },
     "execution_count": 199,
     "metadata": {},
     "output_type": "execute_result"
    }
   ],
   "source": [
    "np.array([1,2,3,4])"
   ]
  },
  {
   "cell_type": "code",
   "execution_count": 200,
   "id": "3b6953c0",
   "metadata": {},
   "outputs": [
    {
     "data": {
      "text/plain": [
       "[3.14, 4, 5, 6]"
      ]
     },
     "execution_count": 200,
     "metadata": {},
     "output_type": "execute_result"
    }
   ],
   "source": [
    "#1\n",
    "[3.14, 4, 5, 6] "
   ]
  },
  {
   "cell_type": "code",
   "execution_count": 201,
   "id": "1a8ea14c",
   "metadata": {},
   "outputs": [
    {
     "data": {
      "text/plain": [
       "array([3.14, 4.  , 5.  , 6.  ])"
      ]
     },
     "execution_count": 201,
     "metadata": {},
     "output_type": "execute_result"
    }
   ],
   "source": [
    "#2\n",
    "np.array([3.14, 4, 5, 6])"
   ]
  },
  {
   "cell_type": "markdown",
   "id": "ee7bfc97",
   "metadata": {},
   "source": [
    "#Thấy sự khác nhau giữa #1 và #2 chưa ?"
   ]
  },
  {
   "cell_type": "code",
   "execution_count": 202,
   "id": "d4c534c2",
   "metadata": {},
   "outputs": [
    {
     "data": {
      "text/plain": [
       "array([1., 2., 3., 4.], dtype=float32)"
      ]
     },
     "execution_count": 202,
     "metadata": {},
     "output_type": "execute_result"
    }
   ],
   "source": [
    "np.array([1, 2, 3, 4], dtype = 'float32')"
   ]
  },
  {
   "cell_type": "code",
   "execution_count": 203,
   "id": "ff226fc1",
   "metadata": {},
   "outputs": [
    {
     "data": {
      "text/plain": [
       "array([1, 2, 3, 4])"
      ]
     },
     "execution_count": 203,
     "metadata": {},
     "output_type": "execute_result"
    }
   ],
   "source": [
    "np.array([1., 2, 3, 4], dtype = 'int32')"
   ]
  },
  {
   "cell_type": "code",
   "execution_count": 204,
   "id": "34f0e183",
   "metadata": {},
   "outputs": [],
   "source": [
    "a1 = np.array([1., 2, 3, 4])"
   ]
  },
  {
   "cell_type": "code",
   "execution_count": 205,
   "id": "039555d8",
   "metadata": {},
   "outputs": [
    {
     "data": {
      "text/plain": [
       "numpy.ndarray"
      ]
     },
     "execution_count": 205,
     "metadata": {},
     "output_type": "execute_result"
    }
   ],
   "source": [
    "type(a1)"
   ]
  },
  {
   "cell_type": "code",
   "execution_count": 206,
   "id": "ed5c8107",
   "metadata": {},
   "outputs": [],
   "source": [
    "a2 = np.array([[1, 2, 3, 4],\n",
    "                 [5, 6, 7, 8]]) # list 2 chiều"
   ]
  },
  {
   "cell_type": "code",
   "execution_count": 207,
   "id": "def96bca",
   "metadata": {},
   "outputs": [
    {
     "data": {
      "text/plain": [
       "numpy.ndarray"
      ]
     },
     "execution_count": 207,
     "metadata": {},
     "output_type": "execute_result"
    }
   ],
   "source": [
    "type(a2)  # return kiểu dữ liệu của biến a2"
   ]
  },
  {
   "cell_type": "code",
   "execution_count": 208,
   "id": "a944315d",
   "metadata": {},
   "outputs": [
    {
     "data": {
      "text/plain": [
       "(2, 4)"
      ]
     },
     "execution_count": 208,
     "metadata": {},
     "output_type": "execute_result"
    }
   ],
   "source": [
    "a2.shape      #return mảng này bao nhiêu cột, bao nhiêu dòng: 2 dòng, 4 cột"
   ]
  },
  {
   "cell_type": "code",
   "execution_count": 209,
   "id": "16df2113",
   "metadata": {},
   "outputs": [
    {
     "data": {
      "text/plain": [
       "2"
      ]
     },
     "execution_count": 209,
     "metadata": {},
     "output_type": "execute_result"
    }
   ],
   "source": [
    "a2.ndim  #return loại mảng"
   ]
  },
  {
   "cell_type": "code",
   "execution_count": 210,
   "id": "4eef94d0",
   "metadata": {},
   "outputs": [
    {
     "data": {
      "text/plain": [
       "dtype('int32')"
      ]
     },
     "execution_count": 210,
     "metadata": {},
     "output_type": "execute_result"
    }
   ],
   "source": [
    "a2.dtype # return kiểu dữ liệu phần tử bên trong a2 là 'int32'"
   ]
  },
  {
   "cell_type": "code",
   "execution_count": 211,
   "id": "8c9086e0",
   "metadata": {},
   "outputs": [
    {
     "data": {
      "text/plain": [
       "array([[1. , 2.3, 4. ],\n",
       "       [7. , 8. , 9. ]])"
      ]
     },
     "execution_count": 211,
     "metadata": {},
     "output_type": "execute_result"
    }
   ],
   "source": [
    "a3 = np.array([[1, 2.3, 4],\n",
    "              [7, 8, 9]])\n",
    "a3"
   ]
  },
  {
   "cell_type": "code",
   "execution_count": 212,
   "id": "16e945ec",
   "metadata": {},
   "outputs": [
    {
     "data": {
      "text/plain": [
       "numpy.ndarray"
      ]
     },
     "execution_count": 212,
     "metadata": {},
     "output_type": "execute_result"
    }
   ],
   "source": [
    "type(a3)"
   ]
  },
  {
   "cell_type": "code",
   "execution_count": 213,
   "id": "e4d19210",
   "metadata": {},
   "outputs": [
    {
     "data": {
      "text/plain": [
       "dtype('float64')"
      ]
     },
     "execution_count": 213,
     "metadata": {},
     "output_type": "execute_result"
    }
   ],
   "source": [
    "a3.dtype"
   ]
  },
  {
   "cell_type": "code",
   "execution_count": 214,
   "id": "25598805",
   "metadata": {},
   "outputs": [
    {
     "data": {
      "text/plain": [
       "8"
      ]
     },
     "execution_count": 214,
     "metadata": {},
     "output_type": "execute_result"
    }
   ],
   "source": [
    "a2.size  # số lượng các phần tử có trong a2"
   ]
  },
  {
   "cell_type": "markdown",
   "id": "81f2645c",
   "metadata": {},
   "source": [
    "# Creating Numpy Arrays from Scratch"
   ]
  },
  {
   "cell_type": "markdown",
   "id": "8acf1887",
   "metadata": {},
   "source": [
    "zeros, ones, full, arange, linspace"
   ]
  },
  {
   "cell_type": "markdown",
   "id": "9b4926ba",
   "metadata": {},
   "source": [
    "### zeros"
   ]
  },
  {
   "cell_type": "code",
   "execution_count": 215,
   "id": "f5c2b85e",
   "metadata": {},
   "outputs": [
    {
     "data": {
      "text/plain": [
       "array([[0., 0., 0., 0.],\n",
       "       [0., 0., 0., 0.]])"
      ]
     },
     "execution_count": 215,
     "metadata": {},
     "output_type": "execute_result"
    }
   ],
   "source": [
    "b1 = np.zeros([2,4])  \n",
    "b1"
   ]
  },
  {
   "cell_type": "code",
   "execution_count": 216,
   "id": "2c6b1ec2",
   "metadata": {},
   "outputs": [
    {
     "data": {
      "text/plain": [
       "dtype('float64')"
      ]
     },
     "execution_count": 216,
     "metadata": {},
     "output_type": "execute_result"
    }
   ],
   "source": [
    "b1.dtype# mặc dù là số 0 nhưng kiểu dữ liệu các phần tử mặc định là float"
   ]
  },
  {
   "cell_type": "code",
   "execution_count": 217,
   "id": "36148bec",
   "metadata": {},
   "outputs": [
    {
     "data": {
      "text/plain": [
       "array([[0, 0, 0, 0],\n",
       "       [0, 0, 0, 0]])"
      ]
     },
     "execution_count": 217,
     "metadata": {},
     "output_type": "execute_result"
    }
   ],
   "source": [
    "b2 = np.zeros([2,4], dtype = int)# tuy nhiên vẫn có thể thay đc định dạng\n",
    "b2"
   ]
  },
  {
   "cell_type": "markdown",
   "id": "2c0ded8d",
   "metadata": {},
   "source": [
    "### ones"
   ]
  },
  {
   "cell_type": "code",
   "execution_count": 218,
   "id": "da68849e",
   "metadata": {},
   "outputs": [
    {
     "data": {
      "text/plain": [
       "array([[1., 1.],\n",
       "       [1., 1.]])"
      ]
     },
     "execution_count": 218,
     "metadata": {},
     "output_type": "execute_result"
    }
   ],
   "source": [
    "np.ones([2,2])"
   ]
  },
  {
   "cell_type": "code",
   "execution_count": 219,
   "id": "eb3d1270",
   "metadata": {},
   "outputs": [
    {
     "data": {
      "text/plain": [
       "array([[1, 1],\n",
       "       [1, 1]])"
      ]
     },
     "execution_count": 219,
     "metadata": {},
     "output_type": "execute_result"
    }
   ],
   "source": [
    "np.ones([2,2], dtype = int)"
   ]
  },
  {
   "cell_type": "markdown",
   "id": "d929d4ae",
   "metadata": {},
   "source": [
    "### arange"
   ]
  },
  {
   "cell_type": "code",
   "execution_count": 220,
   "id": "628efb4d",
   "metadata": {},
   "outputs": [
    {
     "data": {
      "text/plain": [
       "array([0, 1, 2])"
      ]
     },
     "execution_count": 220,
     "metadata": {},
     "output_type": "execute_result"
    }
   ],
   "source": [
    "np.arange(3)"
   ]
  },
  {
   "cell_type": "code",
   "execution_count": 221,
   "id": "596ad2d3",
   "metadata": {},
   "outputs": [
    {
     "data": {
      "text/plain": [
       "array([0., 1., 2.])"
      ]
     },
     "execution_count": 221,
     "metadata": {},
     "output_type": "execute_result"
    }
   ],
   "source": [
    "np.arange(3.)"
   ]
  },
  {
   "cell_type": "code",
   "execution_count": 222,
   "id": "512f71c1",
   "metadata": {},
   "outputs": [
    {
     "data": {
      "text/plain": [
       "array([ 2,  4,  6,  8, 10, 12, 14, 16, 18])"
      ]
     },
     "execution_count": 222,
     "metadata": {},
     "output_type": "execute_result"
    }
   ],
   "source": [
    "np.arange(2,20,2)"
   ]
  },
  {
   "cell_type": "markdown",
   "id": "ba1d4cc5",
   "metadata": {},
   "source": [
    "### full"
   ]
  },
  {
   "cell_type": "code",
   "execution_count": 223,
   "id": "91eb7d1d",
   "metadata": {},
   "outputs": [
    {
     "data": {
      "text/plain": [
       "array([[1, 2],\n",
       "       [1, 2]])"
      ]
     },
     "execution_count": 223,
     "metadata": {},
     "output_type": "execute_result"
    }
   ],
   "source": [
    " np.full((2, 2), [1, 2])"
   ]
  },
  {
   "cell_type": "markdown",
   "id": "f619559e",
   "metadata": {},
   "source": [
    "### linespace"
   ]
  },
  {
   "cell_type": "code",
   "execution_count": 224,
   "id": "df86348b",
   "metadata": {},
   "outputs": [
    {
     "data": {
      "text/plain": [
       "array([2.  , 2.25, 2.5 , 2.75, 3.  ])"
      ]
     },
     "execution_count": 224,
     "metadata": {},
     "output_type": "execute_result"
    }
   ],
   "source": [
    "np.linspace(2, 3.0, num=5)# start=2, end=3.0, chia ra làm 5 "
   ]
  },
  {
   "cell_type": "markdown",
   "id": "ed604f81",
   "metadata": {},
   "source": [
    "### Random"
   ]
  },
  {
   "cell_type": "code",
   "execution_count": 225,
   "id": "30440034",
   "metadata": {},
   "outputs": [
    {
     "data": {
      "text/plain": [
       "array([[0.00706631, 0.02306243, 0.52477466, 0.39986097],\n",
       "       [0.04666566, 0.97375552, 0.23277134, 0.09060643],\n",
       "       [0.61838601, 0.38246199, 0.98323089, 0.46676289],\n",
       "       [0.85994041, 0.68030754, 0.45049925, 0.01326496]])"
      ]
     },
     "execution_count": 225,
     "metadata": {},
     "output_type": "execute_result"
    }
   ],
   "source": [
    "np.random.random([4,4])# ngẫu nhiên mỗi lần ra 1 kq khác nhau"
   ]
  },
  {
   "cell_type": "code",
   "execution_count": 226,
   "id": "62b8fadd",
   "metadata": {},
   "outputs": [
    {
     "data": {
      "text/plain": [
       "array([[0.5488135 , 0.71518937, 0.60276338, 0.54488318],\n",
       "       [0.4236548 , 0.64589411, 0.43758721, 0.891773  ],\n",
       "       [0.96366276, 0.38344152, 0.79172504, 0.52889492],\n",
       "       [0.56804456, 0.92559664, 0.07103606, 0.0871293 ]])"
      ]
     },
     "execution_count": 226,
     "metadata": {},
     "output_type": "execute_result"
    }
   ],
   "source": [
    "#seed  =>giúp random ra kq giống nhau\n",
    "np.random.seed(0)# trường hợp này khởi tạo với bộ sinh số ngẫu nhiên =0\n",
    "np.random.random([4,4])"
   ]
  },
  {
   "cell_type": "code",
   "execution_count": 227,
   "id": "65b9c3d0",
   "metadata": {},
   "outputs": [
    {
     "data": {
      "text/plain": [
       "array([[ 0.44386323,  0.33367433,  1.49407907],\n",
       "       [-0.20515826,  0.3130677 , -0.85409574],\n",
       "       [-2.55298982,  0.6536186 ,  0.8644362 ]])"
      ]
     },
     "execution_count": 227,
     "metadata": {},
     "output_type": "execute_result"
    }
   ],
   "source": [
    "np.random.normal(0, 1, [3,3])# min=0, độ lệch chuẩn=1, 3 hàng 3 cột"
   ]
  },
  {
   "cell_type": "code",
   "execution_count": 228,
   "id": "f81a40f5",
   "metadata": {},
   "outputs": [
    {
     "data": {
      "text/plain": [
       "array([[7, 2, 0, 0, 4],\n",
       "       [5, 5, 6, 8, 4],\n",
       "       [1, 4, 9, 8, 1],\n",
       "       [1, 7, 9, 9, 3]])"
      ]
     },
     "execution_count": 228,
     "metadata": {},
     "output_type": "execute_result"
    }
   ],
   "source": [
    "np.random.randint(0, 10, [4,5])# min=0, max=10, 4 hàng 5 cột"
   ]
  },
  {
   "cell_type": "markdown",
   "id": "146915bd",
   "metadata": {},
   "source": [
    "# Array Indexing & Slicing"
   ]
  },
  {
   "cell_type": "markdown",
   "id": "31a64315",
   "metadata": {},
   "source": [
    "### 1 chiều"
   ]
  },
  {
   "cell_type": "code",
   "execution_count": 229,
   "id": "351ed1d3",
   "metadata": {},
   "outputs": [],
   "source": [
    "x1 = np.random.randint(20, size =6) # mảng 1 chiều 6 phần tử"
   ]
  },
  {
   "cell_type": "code",
   "execution_count": 230,
   "id": "c68af20a",
   "metadata": {},
   "outputs": [
    {
     "data": {
      "text/plain": [
       "array([ 6, 11, 14, 18,  0, 14])"
      ]
     },
     "execution_count": 230,
     "metadata": {},
     "output_type": "execute_result"
    }
   ],
   "source": [
    "x1 #ngẫu nhiên từ 0->20 k bao gồm 20, 6 phần tử"
   ]
  },
  {
   "cell_type": "code",
   "execution_count": 231,
   "id": "51fd469f",
   "metadata": {},
   "outputs": [
    {
     "data": {
      "text/plain": [
       "(0, 14)"
      ]
     },
     "execution_count": 231,
     "metadata": {},
     "output_type": "execute_result"
    }
   ],
   "source": [
    "x1[4], x1[-1]# phần tử thứ 3 và phần tử cuối cùng"
   ]
  },
  {
   "cell_type": "markdown",
   "id": "228d8d3f",
   "metadata": {},
   "source": [
    "### Đa chiều"
   ]
  },
  {
   "cell_type": "code",
   "execution_count": 232,
   "id": "5416d4af",
   "metadata": {},
   "outputs": [],
   "source": [
    "x2 = np.random.randint(10, size=[3,4])# mảng đa chiều 3 dòng 4 cột"
   ]
  },
  {
   "cell_type": "code",
   "execution_count": 233,
   "id": "757331e8",
   "metadata": {},
   "outputs": [
    {
     "data": {
      "text/plain": [
       "array([[3, 5, 9, 4],\n",
       "       [4, 6, 4, 4],\n",
       "       [3, 4, 4, 8]])"
      ]
     },
     "execution_count": 233,
     "metadata": {},
     "output_type": "execute_result"
    }
   ],
   "source": [
    "x2"
   ]
  },
  {
   "cell_type": "code",
   "execution_count": 234,
   "id": "fc7a373a",
   "metadata": {},
   "outputs": [
    {
     "data": {
      "text/plain": [
       "4"
      ]
     },
     "execution_count": 234,
     "metadata": {},
     "output_type": "execute_result"
    }
   ],
   "source": [
    "x2[1,2]# vị trí hàng 1, cột 2"
   ]
  },
  {
   "cell_type": "code",
   "execution_count": 235,
   "id": "dfd00652",
   "metadata": {},
   "outputs": [
    {
     "data": {
      "text/plain": [
       "array([[3, 5, 9, 4],\n",
       "       [4, 6, 6, 4],\n",
       "       [3, 4, 4, 8]])"
      ]
     },
     "execution_count": 235,
     "metadata": {},
     "output_type": "execute_result"
    }
   ],
   "source": [
    "x2[1,2] = 6 # thay vị trí đó = 6\n",
    "x2"
   ]
  },
  {
   "cell_type": "markdown",
   "id": "50add24d",
   "metadata": {},
   "source": [
    "### Slicing"
   ]
  },
  {
   "cell_type": "markdown",
   "id": "a275711e",
   "metadata": {},
   "source": [
    "x[start:stop:step]"
   ]
  },
  {
   "cell_type": "code",
   "execution_count": 236,
   "id": "82fa7c68",
   "metadata": {},
   "outputs": [
    {
     "data": {
      "text/plain": [
       "array([ 6, 11, 14, 18,  0, 14])"
      ]
     },
     "execution_count": 236,
     "metadata": {},
     "output_type": "execute_result"
    }
   ],
   "source": [
    "x1"
   ]
  },
  {
   "cell_type": "code",
   "execution_count": 237,
   "id": "06c9ba6d",
   "metadata": {},
   "outputs": [
    {
     "data": {
      "text/plain": [
       "array([ 6, 11, 14])"
      ]
     },
     "execution_count": 237,
     "metadata": {},
     "output_type": "execute_result"
    }
   ],
   "source": [
    "x1[0:3]# lấy 3 phần tử đầu tiên"
   ]
  },
  {
   "cell_type": "code",
   "execution_count": 238,
   "id": "8101aa27",
   "metadata": {},
   "outputs": [
    {
     "data": {
      "text/plain": [
       "array([ 6, 11, 14])"
      ]
     },
     "execution_count": 238,
     "metadata": {},
     "output_type": "execute_result"
    }
   ],
   "source": [
    "x1[:3]# 1 cách viết khác"
   ]
  },
  {
   "cell_type": "code",
   "execution_count": 239,
   "id": "28339e76",
   "metadata": {},
   "outputs": [
    {
     "data": {
      "text/plain": [
       "array([[3, 5, 9, 4],\n",
       "       [4, 6, 6, 4],\n",
       "       [3, 4, 4, 8]])"
      ]
     },
     "execution_count": 239,
     "metadata": {},
     "output_type": "execute_result"
    }
   ],
   "source": [
    "x2"
   ]
  },
  {
   "cell_type": "code",
   "execution_count": 240,
   "id": "eeda1e85",
   "metadata": {},
   "outputs": [
    {
     "data": {
      "text/plain": [
       "array([[6, 6],\n",
       "       [4, 4]])"
      ]
     },
     "execution_count": 240,
     "metadata": {},
     "output_type": "execute_result"
    }
   ],
   "source": [
    "x2[1:,1:3]"
   ]
  },
  {
   "cell_type": "markdown",
   "id": "58a7436b",
   "metadata": {},
   "source": [
    "# Reshaping of Arrays & Transpose"
   ]
  },
  {
   "cell_type": "markdown",
   "id": "e3dfc378",
   "metadata": {},
   "source": [
    "### Reshape: chuyển thành định dạng mong muốn"
   ]
  },
  {
   "cell_type": "code",
   "execution_count": 241,
   "id": "855c9386",
   "metadata": {},
   "outputs": [
    {
     "data": {
      "text/plain": [
       "(9,)"
      ]
     },
     "execution_count": 241,
     "metadata": {},
     "output_type": "execute_result"
    }
   ],
   "source": [
    "grid = np.arange(1,10)\n",
    "grid.shape"
   ]
  },
  {
   "cell_type": "code",
   "execution_count": 242,
   "id": "0bc42ce1",
   "metadata": {},
   "outputs": [
    {
     "data": {
      "text/plain": [
       "array([[1, 2, 3],\n",
       "       [4, 5, 6],\n",
       "       [7, 8, 9]])"
      ]
     },
     "execution_count": 242,
     "metadata": {},
     "output_type": "execute_result"
    }
   ],
   "source": [
    "grid.reshape([3,3])"
   ]
  },
  {
   "cell_type": "markdown",
   "id": "95ee7ae5",
   "metadata": {},
   "source": [
    "### Transpose: Chuyển hàng thành cột"
   ]
  },
  {
   "cell_type": "code",
   "execution_count": 243,
   "id": "851f33a5",
   "metadata": {},
   "outputs": [
    {
     "data": {
      "text/plain": [
       "array([[1, 2],\n",
       "       [3, 4]])"
      ]
     },
     "execution_count": 243,
     "metadata": {},
     "output_type": "execute_result"
    }
   ],
   "source": [
    "x = np.array([[1, 2],\n",
    "            [3, 4]])\n",
    "x"
   ]
  },
  {
   "cell_type": "code",
   "execution_count": 244,
   "id": "48536bad",
   "metadata": {},
   "outputs": [
    {
     "data": {
      "text/plain": [
       "array([[1, 3],\n",
       "       [2, 4]])"
      ]
     },
     "execution_count": 244,
     "metadata": {},
     "output_type": "execute_result"
    }
   ],
   "source": [
    "x.T"
   ]
  },
  {
   "cell_type": "markdown",
   "id": "4ccd77dc",
   "metadata": {},
   "source": [
    "# Array Concatenation and Splitting"
   ]
  },
  {
   "cell_type": "code",
   "execution_count": 245,
   "id": "d3791976",
   "metadata": {},
   "outputs": [],
   "source": [
    "x = np.array([1,2,3])\n",
    "y = np.array([3,2,1])"
   ]
  },
  {
   "cell_type": "code",
   "execution_count": 246,
   "id": "ea3947a1",
   "metadata": {},
   "outputs": [
    {
     "data": {
      "text/plain": [
       "array([1, 2, 3, 3, 2, 1])"
      ]
     },
     "execution_count": 246,
     "metadata": {},
     "output_type": "execute_result"
    }
   ],
   "source": [
    "np.concatenate((x,y))# nối theo hàng"
   ]
  },
  {
   "cell_type": "code",
   "execution_count": 247,
   "id": "9796a8e3",
   "metadata": {},
   "outputs": [
    {
     "data": {
      "text/plain": [
       "array([[1, 2, 3],\n",
       "       [4, 5, 6]])"
      ]
     },
     "execution_count": 247,
     "metadata": {},
     "output_type": "execute_result"
    }
   ],
   "source": [
    "grid = np.array([[1,2,3],\n",
    "                [4,5,6]])\n",
    "grid"
   ]
  },
  {
   "cell_type": "code",
   "execution_count": 248,
   "id": "545f34bd",
   "metadata": {},
   "outputs": [
    {
     "data": {
      "text/plain": [
       "array([[1, 2, 3],\n",
       "       [4, 5, 6],\n",
       "       [1, 2, 3],\n",
       "       [4, 5, 6]])"
      ]
     },
     "execution_count": 248,
     "metadata": {},
     "output_type": "execute_result"
    }
   ],
   "source": [
    "np.concatenate((grid, grid))# axis = 0 default mặc định nối theo hàng"
   ]
  },
  {
   "cell_type": "code",
   "execution_count": 249,
   "id": "54330273",
   "metadata": {},
   "outputs": [
    {
     "data": {
      "text/plain": [
       "array([[1, 2, 3, 1, 2, 3],\n",
       "       [4, 5, 6, 4, 5, 6]])"
      ]
     },
     "execution_count": 249,
     "metadata": {},
     "output_type": "execute_result"
    }
   ],
   "source": [
    "np.concatenate((grid, grid), axis = 1)# nối theo cột"
   ]
  },
  {
   "cell_type": "markdown",
   "id": "18cddff0",
   "metadata": {},
   "source": [
    "### Splitting of arrays"
   ]
  },
  {
   "cell_type": "code",
   "execution_count": 250,
   "id": "4f824645",
   "metadata": {},
   "outputs": [],
   "source": [
    "x = np.array([1, 2, 3, 99, 69, 3, 2, 1])"
   ]
  },
  {
   "cell_type": "code",
   "execution_count": 251,
   "id": "f0750390",
   "metadata": {},
   "outputs": [
    {
     "data": {
      "text/plain": [
       "[array([1, 2, 3]), array([99, 69]), array([3, 2, 1])]"
      ]
     },
     "execution_count": 251,
     "metadata": {},
     "output_type": "execute_result"
    }
   ],
   "source": [
    "# muốn tách lấy array[99, 69]\n",
    "np.split(x,[3,5])# 99 bắt đầu từ vị trí index=3, 69 thì index=4 =>: 5"
   ]
  },
  {
   "cell_type": "code",
   "execution_count": 252,
   "id": "3c7356f4",
   "metadata": {},
   "outputs": [],
   "source": [
    "# hoặc có thể viết tách ra\n",
    "x1, x2, x3 = np.split(x,[3,5])"
   ]
  },
  {
   "cell_type": "code",
   "execution_count": 253,
   "id": "07c25b94",
   "metadata": {},
   "outputs": [
    {
     "data": {
      "text/plain": [
       "array([1, 2, 3])"
      ]
     },
     "execution_count": 253,
     "metadata": {},
     "output_type": "execute_result"
    }
   ],
   "source": [
    "x1"
   ]
  },
  {
   "cell_type": "code",
   "execution_count": 254,
   "id": "cecf86ab",
   "metadata": {},
   "outputs": [
    {
     "data": {
      "text/plain": [
       "array([99, 69])"
      ]
     },
     "execution_count": 254,
     "metadata": {},
     "output_type": "execute_result"
    }
   ],
   "source": [
    "x2"
   ]
  },
  {
   "cell_type": "code",
   "execution_count": 255,
   "id": "c734eab1",
   "metadata": {},
   "outputs": [
    {
     "data": {
      "text/plain": [
       "array([3, 2, 1])"
      ]
     },
     "execution_count": 255,
     "metadata": {},
     "output_type": "execute_result"
    }
   ],
   "source": [
    "x3"
   ]
  },
  {
   "cell_type": "markdown",
   "id": "4e13fe6c",
   "metadata": {},
   "source": [
    "# Broadcasting và Vectorised Operations"
   ]
  },
  {
   "attachments": {
    "image.png": {
     "image/png": "[encoded data removed]"
    }
   },
   "cell_type": "markdown",
   "id": "d42cd876",
   "metadata": {},
   "source": [
    "![image.png](attachment:image.png)"
   ]
  },
  {
   "cell_type": "code",
   "execution_count": 256,
   "id": "a38183d8",
   "metadata": {},
   "outputs": [
    {
     "data": {
      "text/plain": [
       "array([0, 1, 2])"
      ]
     },
     "execution_count": 256,
     "metadata": {},
     "output_type": "execute_result"
    }
   ],
   "source": [
    "a = np.arange(3)\n",
    "a"
   ]
  },
  {
   "cell_type": "code",
   "execution_count": 257,
   "id": "799f17f0",
   "metadata": {},
   "outputs": [
    {
     "data": {
      "text/plain": [
       "array([5, 6, 7])"
      ]
     },
     "execution_count": 257,
     "metadata": {},
     "output_type": "execute_result"
    }
   ],
   "source": [
    "a + 5"
   ]
  },
  {
   "cell_type": "markdown",
   "id": "134af6d4",
   "metadata": {},
   "source": [
    "# manipulate & compare Numpy Array"
   ]
  },
  {
   "cell_type": "code",
   "execution_count": 258,
   "id": "fd9906e2",
   "metadata": {},
   "outputs": [],
   "source": [
    "list_number = [1, 2, 3]"
   ]
  },
  {
   "cell_type": "code",
   "execution_count": 259,
   "id": "4d6084c2",
   "metadata": {},
   "outputs": [],
   "source": [
    "ll = np.array(list_number)"
   ]
  },
  {
   "cell_type": "code",
   "execution_count": 260,
   "id": "58edc56a",
   "metadata": {},
   "outputs": [
    {
     "data": {
      "text/plain": [
       "array([1, 2, 3])"
      ]
     },
     "execution_count": 260,
     "metadata": {},
     "output_type": "execute_result"
    }
   ],
   "source": [
    "ll"
   ]
  },
  {
   "cell_type": "code",
   "execution_count": 261,
   "id": "a5a9f3fd",
   "metadata": {},
   "outputs": [
    {
     "data": {
      "text/plain": [
       "6"
      ]
     },
     "execution_count": 261,
     "metadata": {},
     "output_type": "execute_result"
    }
   ],
   "source": [
    "sum(ll) #Python sum()"
   ]
  },
  {
   "cell_type": "code",
   "execution_count": 262,
   "id": "e06b163a",
   "metadata": {},
   "outputs": [
    {
     "data": {
      "text/plain": [
       "6"
      ]
     },
     "execution_count": 262,
     "metadata": {},
     "output_type": "execute_result"
    }
   ],
   "source": [
    "np.sum(ll) #numpy sum()"
   ]
  },
  {
   "cell_type": "markdown",
   "id": "df90ff22",
   "metadata": {},
   "source": [
    "Nên dùng hàm sum() của Numpy vì tốc độ nó nhanh hơn"
   ]
  },
  {
   "cell_type": "code",
   "execution_count": 263,
   "id": "54656750",
   "metadata": {},
   "outputs": [
    {
     "data": {
      "text/plain": [
       "2.0"
      ]
     },
     "execution_count": 263,
     "metadata": {},
     "output_type": "execute_result"
    }
   ],
   "source": [
    "np.mean(ll)# tính giá trị trung bình của các phần tử"
   ]
  },
  {
   "cell_type": "code",
   "execution_count": 264,
   "id": "f88c61c5",
   "metadata": {},
   "outputs": [
    {
     "data": {
      "text/plain": [
       "3"
      ]
     },
     "execution_count": 264,
     "metadata": {},
     "output_type": "execute_result"
    }
   ],
   "source": [
    "np.max(ll)"
   ]
  },
  {
   "cell_type": "code",
   "execution_count": 265,
   "id": "b5aa1b9f",
   "metadata": {},
   "outputs": [
    {
     "data": {
      "text/plain": [
       "1"
      ]
     },
     "execution_count": 265,
     "metadata": {},
     "output_type": "execute_result"
    }
   ],
   "source": [
    "np.min(ll)"
   ]
  },
  {
   "cell_type": "code",
   "execution_count": 266,
   "id": "1a5e0a2e",
   "metadata": {},
   "outputs": [
    {
     "data": {
      "text/plain": [
       "147.32277488562318"
      ]
     },
     "execution_count": 266,
     "metadata": {},
     "output_type": "execute_result"
    }
   ],
   "source": [
    "dog_height = [600, 470, 170, 430, 300]\n",
    "dog_height = np.array(dog_height)\n",
    "np.std(dog_height) # độ lệch chuẩn = sử dụng hàm var() -> sqrt()\n"
   ]
  },
  {
   "cell_type": "code",
   "execution_count": 267,
   "id": "cc0fb99a",
   "metadata": {},
   "outputs": [
    {
     "data": {
      "text/plain": [
       "394.0"
      ]
     },
     "execution_count": 267,
     "metadata": {},
     "output_type": "execute_result"
    }
   ],
   "source": [
    "np.mean(dog_height)"
   ]
  },
  {
   "cell_type": "markdown",
   "id": "45fa2e74",
   "metadata": {},
   "source": [
    "\n",
    "Sự khác nhau chính giữa hàm mean() và hàm std() là:\n",
    "\n",
    "- Hàm mean()trả về giá trị trung bình của các phần tử trong một mảng, trong khi hàmstd() trả về độ lệch chuẩn của các phần tử trong một mảng.\n",
    "- Độ lệch chuẩn là một thước đo sự phân tán của các phần tử trong một mảng."
   ]
  },
  {
   "cell_type": "code",
   "execution_count": 268,
   "id": "b5811498",
   "metadata": {},
   "outputs": [
    {
     "data": {
      "text/plain": [
       "21704.0"
      ]
     },
     "execution_count": 268,
     "metadata": {},
     "output_type": "execute_result"
    }
   ],
   "source": [
    "np.var(dog_height) # phương sai"
   ]
  },
  {
   "cell_type": "code",
   "execution_count": 269,
   "id": "0dd382c0",
   "metadata": {},
   "outputs": [
    {
     "data": {
      "text/plain": [
       "147.32277488562318"
      ]
     },
     "execution_count": 269,
     "metadata": {},
     "output_type": "execute_result"
    }
   ],
   "source": [
    "np.sqrt(np.var(dog_height)) # căn bậc hai"
   ]
  },
  {
   "cell_type": "markdown",
   "id": "3bea2020",
   "metadata": {},
   "source": [
    "# Sorting Arrays"
   ]
  },
  {
   "cell_type": "code",
   "execution_count": 270,
   "id": "5955d4ff",
   "metadata": {},
   "outputs": [
    {
     "data": {
      "text/plain": [
       "array([1, 2, 3, 4, 5])"
      ]
     },
     "execution_count": 270,
     "metadata": {},
     "output_type": "execute_result"
    }
   ],
   "source": [
    "x = np.array([2, 1, 4, 3, 5])\n",
    "np.sort(x)"
   ]
  },
  {
   "cell_type": "code",
   "execution_count": 271,
   "id": "5d88fc91",
   "metadata": {},
   "outputs": [
    {
     "data": {
      "text/plain": [
       "array([1, 0, 3, 2, 4], dtype=int64)"
      ]
     },
     "execution_count": 271,
     "metadata": {},
     "output_type": "execute_result"
    }
   ],
   "source": [
    "# trả về vị trí của các phần tử sau khi sắp xếp. VD 2 chính là vị trí index = 0\n",
    "np.argsort(x)"
   ]
  },
  {
   "cell_type": "markdown",
   "id": "03ed04da",
   "metadata": {},
   "source": [
    "# Sorting along rows or columns"
   ]
  },
  {
   "cell_type": "code",
   "execution_count": 272,
   "id": "3ab20fed",
   "metadata": {},
   "outputs": [],
   "source": [
    "np.random.seed(42)\n",
    "MatA = np.random.randint(0,10, size=(4,6))"
   ]
  },
  {
   "cell_type": "code",
   "execution_count": 273,
   "id": "de586174",
   "metadata": {},
   "outputs": [
    {
     "data": {
      "text/plain": [
       "array([[6, 3, 7, 4, 6, 9],\n",
       "       [2, 6, 7, 4, 3, 7],\n",
       "       [7, 2, 5, 4, 1, 7],\n",
       "       [5, 1, 4, 0, 9, 5]])"
      ]
     },
     "execution_count": 273,
     "metadata": {},
     "output_type": "execute_result"
    }
   ],
   "source": [
    "MatA"
   ]
  },
  {
   "cell_type": "code",
   "execution_count": 274,
   "id": "09f17cbc",
   "metadata": {},
   "outputs": [
    {
     "data": {
      "text/plain": [
       "array([[2, 1, 4, 0, 1, 5],\n",
       "       [5, 2, 5, 4, 3, 7],\n",
       "       [6, 3, 7, 4, 6, 7],\n",
       "       [7, 6, 7, 4, 9, 9]])"
      ]
     },
     "execution_count": 274,
     "metadata": {},
     "output_type": "execute_result"
    }
   ],
   "source": [
    "np.sort(MatA, axis=0)# sắp xếp theo cột"
   ]
  },
  {
   "cell_type": "code",
   "execution_count": 275,
   "id": "0e1b9be3",
   "metadata": {},
   "outputs": [
    {
     "data": {
      "text/plain": [
       "array([[3, 4, 6, 6, 7, 9],\n",
       "       [2, 3, 4, 6, 7, 7],\n",
       "       [1, 2, 4, 5, 7, 7],\n",
       "       [0, 1, 4, 5, 5, 9]])"
      ]
     },
     "execution_count": 275,
     "metadata": {},
     "output_type": "execute_result"
    }
   ],
   "source": [
    "np.sort(MatA, axis=1)# sắp xếp theo hàng"
   ]
  },
  {
   "cell_type": "markdown",
   "id": "6f521c3d",
   "metadata": {},
   "source": [
    "# Linear Algebra : Đại số tuyến tính"
   ]
  },
  {
   "cell_type": "markdown",
   "id": "d56064d1",
   "metadata": {},
   "source": [
    "### Để nhân ma trận, số lượng cột trong ma trận thứ nhất = số lượng hàng trong ma trận thứ hai"
   ]
  },
  {
   "cell_type": "code",
   "execution_count": 276,
   "id": "8282f754",
   "metadata": {},
   "outputs": [],
   "source": [
    "A = np.array([[1, 2, 3],\n",
    "            [4, 5, 6],\n",
    "            [7, 8, 9]])"
   ]
  },
  {
   "cell_type": "code",
   "execution_count": 277,
   "id": "30d6eca5",
   "metadata": {},
   "outputs": [],
   "source": [
    "B = np.array([[6, 5],\n",
    "             [4, 3],\n",
    "             [2, 1]])"
   ]
  },
  {
   "cell_type": "code",
   "execution_count": 278,
   "id": "8f81a7bc",
   "metadata": {},
   "outputs": [
    {
     "data": {
      "text/plain": [
       "array([[20, 14],\n",
       "       [56, 41],\n",
       "       [92, 68]])"
      ]
     },
     "execution_count": 278,
     "metadata": {},
     "output_type": "execute_result"
    }
   ],
   "source": [
    "# tích vô hướng\n",
    "# A (3x3) dot B(3x2)\n",
    "A.dot(B)"
   ]
  },
  {
   "cell_type": "code",
   "execution_count": 279,
   "id": "08ae4385",
   "metadata": {},
   "outputs": [
    {
     "data": {
      "text/plain": [
       "20"
      ]
     },
     "execution_count": 279,
     "metadata": {},
     "output_type": "execute_result"
    }
   ],
   "source": [
    "1*6+2*4+3*2  # lý do có số 20"
   ]
  },
  {
   "cell_type": "code",
   "execution_count": 280,
   "id": "aa07d1a7",
   "metadata": {},
   "outputs": [
    {
     "data": {
      "text/plain": [
       "array([[20, 14],\n",
       "       [56, 41],\n",
       "       [92, 68]])"
      ]
     },
     "execution_count": 280,
     "metadata": {},
     "output_type": "execute_result"
    }
   ],
   "source": [
    "# cách viết khác\n",
    "A @ B"
   ]
  },
  {
   "cell_type": "code",
   "execution_count": 281,
   "id": "64a2ccbb",
   "metadata": {},
   "outputs": [
    {
     "data": {
      "text/plain": [
       "array([[6, 4, 2],\n",
       "       [5, 3, 1]])"
      ]
     },
     "execution_count": 281,
     "metadata": {},
     "output_type": "execute_result"
    }
   ],
   "source": [
    "# B(3x2) dot A(3x3)\n",
    "# nên phải đổi B\n",
    "B.T  #"
   ]
  },
  {
   "cell_type": "code",
   "execution_count": 282,
   "id": "3ec6791e",
   "metadata": {},
   "outputs": [
    {
     "data": {
      "text/plain": [
       "array([[36, 48, 60],\n",
       "       [24, 33, 42]])"
      ]
     },
     "execution_count": 282,
     "metadata": {},
     "output_type": "execute_result"
    }
   ],
   "source": [
    "B.T @ A"
   ]
  },
  {
   "cell_type": "raw",
   "id": "aaa1c112",
   "metadata": {},
   "source": []
  }
 ],
 "metadata": {
  "kernelspec": {
   "display_name": "Python 3 (ipykernel)",
   "language": "python",
   "name": "python3"
  },
  "language_info": {
   "codemirror_mode": {
    "name": "ipython",
    "version": 3
   },
   "file_extension": ".py",
   "mimetype": "text/x-python",
   "name": "python",
   "nbconvert_exporter": "python",
   "pygments_lexer": "ipython3",
   "version": "3.11.3"
  }
 },
 "nbformat": 4,
 "nbformat_minor": 5
}
